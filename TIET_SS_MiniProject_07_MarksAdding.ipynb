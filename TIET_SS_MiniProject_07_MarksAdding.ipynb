{
  "nbformat": 4,
  "nbformat_minor": 0,
  "metadata": {
    "colab": {
      "provenance": [],
      "authorship_tag": "ABX9TyPBkQc6XTDjDxWSkjKpBfKE",
      "include_colab_link": true
    },
    "kernelspec": {
      "name": "python3",
      "display_name": "Python 3"
    },
    "language_info": {
      "name": "python"
    }
  },
  "cells": [
    {
      "cell_type": "markdown",
      "metadata": {
        "id": "view-in-github",
        "colab_type": "text"
      },
      "source": [
        "<a href=\"https://colab.research.google.com/github/ManthanVerma7/TIET-SS-MiniProject-07-MarksAdding/blob/main/TIET_SS_MiniProject_07_MarksAdding.ipynb\" target=\"_parent\"><img src=\"https://colab.research.google.com/assets/colab-badge.svg\" alt=\"Open In Colab\"/></a>"
      ]
    },
    {
      "cell_type": "code",
      "execution_count": 1,
      "metadata": {
        "id": "4o0tNedrM8Ji",
        "colab": {
          "base_uri": "https://localhost:8080/"
        },
        "outputId": "eee7fbd7-faeb-406a-e7b8-01e828666d68"
      },
      "outputs": [
        {
          "output_type": "stream",
          "name": "stdout",
          "text": [
            "Output written to Marks-Added-Output.csv\n"
          ]
        }
      ],
      "source": [
        "import csv\n",
        "from collections import defaultdict\n",
        "\n",
        "# Input and output file names\n",
        "input_file = '/content/Mini Project - Marks Adding.csv'\n",
        "output_file = 'Marks-Added-Output.csv'\n",
        "\n",
        "# Dictionary to store total marks per roll number\n",
        "marks_dict = defaultdict(int)\n",
        "\n",
        "# Read the input CSV and sum marks per roll number\n",
        "with open(input_file, 'r', newline='') as csvfile:\n",
        "    reader = csv.DictReader(csvfile)\n",
        "    for row in reader:\n",
        "        roll_num = row['Roll Num'].strip()\n",
        "        try:\n",
        "            marks = int(row['Marks'])\n",
        "        except ValueError:\n",
        "            marks = 0  # Handle non-integer marks gracefully\n",
        "        marks_dict[roll_num] += marks\n",
        "\n",
        "# Write the output CSV\n",
        "with open(output_file, 'w', newline='') as csvfile:\n",
        "    fieldnames = ['Roll Num', 'Marks']\n",
        "    writer = csv.DictWriter(csvfile, fieldnames=fieldnames)\n",
        "    writer.writeheader()\n",
        "    for roll_num, total_marks in marks_dict.items():\n",
        "        writer.writerow({'Roll Num': roll_num, 'Marks': total_marks})\n",
        "\n",
        "print(f\"Output written to {output_file}\")\n"
      ]
    }
  ]
}